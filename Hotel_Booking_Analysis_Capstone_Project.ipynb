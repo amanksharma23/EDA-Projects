{
  "nbformat": 4,
  "nbformat_minor": 0,
  "metadata": {
    "kernelspec": {
      "display_name": "Python 3",
      "language": "python",
      "name": "python3"
    },
    "language_info": {
      "codemirror_mode": {
        "name": "ipython",
        "version": 3
      },
      "file_extension": ".py",
      "mimetype": "text/x-python",
      "name": "python",
      "nbconvert_exporter": "python",
      "pygments_lexer": "ipython3",
      "version": "3.6.6"
    },
    "colab": {
      "name": "Hotel Booking Analysis - Capstone Project.ipynb",
      "provenance": [],
      "include_colab_link": true
    }
  },
  "cells": [
    {
      "cell_type": "markdown",
      "metadata": {
        "id": "view-in-github",
        "colab_type": "text"
      },
      "source": [
        "<a href=\"https://colab.research.google.com/github/amanksharma23/Hotel-Booking-Analysis/blob/main/Hotel_Booking_Analysis_Capstone_Project.ipynb\" target=\"_parent\"><img src=\"https://colab.research.google.com/assets/colab-badge.svg\" alt=\"Open In Colab\"/></a>"
      ]
    },
    {
      "cell_type": "markdown",
      "metadata": {
        "id": "Y06xIdG26kRF"
      },
      "source": [
        "## <b> Have you ever wondered when the best time of year to book a hotel room is? Or the optimal length of stay in order to get the best daily rate? What if you wanted to predict whether or not a hotel was likely to receive a disproportionately high number of special requests? This hotel booking dataset can help you explore those questions!\n",
        "\n",
        "## <b>This data set contains booking information for a city hotel and a resort hotel, and includes information such as when the booking was made, length of stay, the number of adults, children, and/or babies, and the number of available parking spaces, among other things. All personally identifying information has been removed from the data. </b>\n",
        "\n",
        "## <b> Explore and analyze the data to discover important factors that govern the bookings. </b>"
      ]
    },
    {
      "cell_type": "code",
      "metadata": {
        "id": "dByMsuzT8Tnw"
      },
      "source": [
        "import pandas as pd\n",
        "import numpy as np\n",
        "import os\n",
        "import matplotlib.pyplot as plt\n",
        "\n"
      ],
      "execution_count": 2,
      "outputs": []
    },
    {
      "cell_type": "code",
      "source": [
        "from google.colab import drive\n",
        "drive.mount('/content/drive')"
      ],
      "metadata": {
        "colab": {
          "base_uri": "https://localhost:8080/"
        },
        "id": "LilH-K7_9RXb",
        "outputId": "40d9366f-6f01-4287-a6d0-3fac989ba8e5"
      },
      "execution_count": 4,
      "outputs": [
        {
          "output_type": "stream",
          "name": "stdout",
          "text": [
            "Mounted at /content/drive\n"
          ]
        }
      ]
    },
    {
      "cell_type": "code",
      "source": [
        "file_path = '/content/drive/MyDrive/Colab Notebooks/Copy of Hotel Bookings.csv'\n",
        "dataset=pd.read_csv(file_path)"
      ],
      "metadata": {
        "id": "AnGPn4rsIcdw"
      },
      "execution_count": 8,
      "outputs": []
    },
    {
      "cell_type": "code",
      "source": [
        "dataset.head()\n",
        "dataset.columns.unique()\n",
        "dataset['assigned_room_type'].unique()\n",
        "dataset.describe()\n",
        "dataset.nunique()\n",
        "dataset.isnull().sum()\n",
        "data = dataset.drop(['lead_time', 'company', 'adr', 'total_of_special_requests'], axis =1 )\n",
        "data\n",
        "data['is_canceled'].sum()\n",
        "print(data['is_canceled'].value_counts())\n",
        "resort_hotel = data.loc[(data[\"hotel\"] == \"Resort Hotel\")]\n",
        "print(resort_hotel['is_canceled'].value_counts())\n",
        "\n",
        "import matplotlib.pyplot as plt\n",
        "resort_hotel_checkin_cancel = resort_hotel['is_canceled'].value_counts()\n",
        "mylabels = [\"Check-ins\", \"Cancelled\"]\n",
        "myexplode = [0.2, 0]\n",
        "\n",
        "plt.pie(resort_hotel_checkin_cancel, labels = mylabels, explode = myexplode)\n",
        "plt.show() \n",
        "city_hotel = data.loc[(data[\"hotel\"] == \"City Hotel\")]\n",
        "print(city_hotel['is_canceled'].value_counts())\n",
        "city_hotel_checkin_cancel = city_hotel['is_canceled'].value_counts()\n",
        "\n",
        "plt.pie(city_hotel_checkin_cancel, labels = mylabels, explode = myexplode)\n",
        "plt.show()  \n",
        "resort_hotel_2015 = resort_hotel.loc[(resort_hotel[\"arrival_date_year\"] == 2015)] \n",
        "resort_hotel_2015\n",
        "dataset.dtypes\n",
        "dataset['reserved_room_type'].unique()\n",
        "dataset_typec = dataset.loc[(dataset['reserved_room_type'] == \"C\")]\n",
        "dataset_typec['reserved_room_type'].count()"
      ],
      "metadata": {
        "colab": {
          "base_uri": "https://localhost:8080/",
          "height": 659
        },
        "id": "BdkOW1xnI-WS",
        "outputId": "86758fde-9698-4faf-e81b-f9f38eab1add"
      },
      "execution_count": 9,
      "outputs": [
        {
          "output_type": "stream",
          "name": "stdout",
          "text": [
            "0    75166\n",
            "1    44224\n",
            "Name: is_canceled, dtype: int64\n",
            "0    28938\n",
            "1    11122\n",
            "Name: is_canceled, dtype: int64\n"
          ]
        },
        {
          "output_type": "display_data",
          "data": {
            "text/plain": [
              "<Figure size 432x288 with 1 Axes>"
            ],
            "image/png": "[encoded data removed]"
          },
          "metadata": {}
        },
        {
          "output_type": "stream",
          "name": "stdout",
          "text": [
            "0    46228\n",
            "1    33102\n",
            "Name: is_canceled, dtype: int64\n"
          ]
        },
        {
          "output_type": "display_data",
          "data": {
            "text/plain": [
              "<Figure size 432x288 with 1 Axes>"
            ],
            "image/png": "[encoded data removed]"
          },
          "metadata": {}
        },
        {
          "output_type": "execute_result",
          "data": {
            "text/plain": [
              "932"
            ]
          },
          "metadata": {},
          "execution_count": 9
        }
      ]
    }
  ]
}